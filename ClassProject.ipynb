{
 "cells": [
  {
   "cell_type": "markdown",
   "id": "855b5262",
   "metadata": {},
   "source": [
    "# Data Science in Economics and Business - Class Project\n",
    "In this class project, you are supposed to work with GDP data taken from the International Monetary Fund."
   ]
  },
  {
   "cell_type": "markdown",
   "id": "b290d39a",
   "metadata": {},
   "source": [
    "**IMPORTANT:** <br>\n",
    "Please enter the matriculation number of all group members here:\n",
    "1. XXXXXX\n",
    "2. YYYYYY\n",
    "3. ZZZZZZ"
   ]
  },
  {
   "cell_type": "markdown",
   "id": "12c47bef",
   "metadata": {},
   "source": [
    "In this class project, you will use the different techniques taught in the course: data handling, data visualization, and machine learning."
   ]
  },
  {
   "cell_type": "markdown",
   "id": "3a96c71f",
   "metadata": {},
   "source": [
    "First load the necessary packages. <br>\n",
    "If you want to use additional libraries you can add them to the following cell:"
   ]
  },
  {
   "cell_type": "code",
   "execution_count": 1,
   "id": "be8df249",
   "metadata": {},
   "outputs": [],
   "source": [
    "import matplotlib.pyplot as plt\n",
    "import numpy as np\n",
    "import pandas as pd\n",
    "import seaborn as sns\n",
    "sns.set()\n",
    "import folium\n",
    "from folium.plugins import MarkerCluster"
   ]
  },
  {
   "cell_type": "markdown",
   "id": "a87d09d9",
   "metadata": {},
   "source": [
    "# Problem 1 - Data Handling\n",
    "The basis of your work will be the following GDP dataset:"
   ]
  },
  {
   "cell_type": "code",
   "execution_count": 2,
   "id": "02da2e4c",
   "metadata": {},
   "outputs": [
    {
     "data": {
      "text/html": [
       "<div>\n",
       "<style scoped>\n",
       "    .dataframe tbody tr th:only-of-type {\n",
       "        vertical-align: middle;\n",
       "    }\n",
       "\n",
       "    .dataframe tbody tr th {\n",
       "        vertical-align: top;\n",
       "    }\n",
       "\n",
       "    .dataframe thead th {\n",
       "        text-align: right;\n",
       "    }\n",
       "</style>\n",
       "<table border=\"1\" class=\"dataframe\">\n",
       "  <thead>\n",
       "    <tr style=\"text-align: right;\">\n",
       "      <th></th>\n",
       "      <th>Country</th>\n",
       "      <th>year</th>\n",
       "      <th>GDP</th>\n",
       "    </tr>\n",
       "  </thead>\n",
       "  <tbody>\n",
       "    <tr>\n",
       "      <th>0</th>\n",
       "      <td>Afghanistan</td>\n",
       "      <td>1992</td>\n",
       "      <td>no data</td>\n",
       "    </tr>\n",
       "    <tr>\n",
       "      <th>1</th>\n",
       "      <td>Albania</td>\n",
       "      <td>1992</td>\n",
       "      <td>0.843</td>\n",
       "    </tr>\n",
       "    <tr>\n",
       "      <th>2</th>\n",
       "      <td>Algeria</td>\n",
       "      <td>1992</td>\n",
       "      <td>49.217</td>\n",
       "    </tr>\n",
       "    <tr>\n",
       "      <th>3</th>\n",
       "      <td>Andorra</td>\n",
       "      <td>1992</td>\n",
       "      <td>no data</td>\n",
       "    </tr>\n",
       "    <tr>\n",
       "      <th>4</th>\n",
       "      <td>Angola</td>\n",
       "      <td>1992</td>\n",
       "      <td>9.395</td>\n",
       "    </tr>\n",
       "    <tr>\n",
       "      <th>...</th>\n",
       "      <td>...</td>\n",
       "      <td>...</td>\n",
       "      <td>...</td>\n",
       "    </tr>\n",
       "    <tr>\n",
       "      <th>8431</th>\n",
       "      <td>Major advanced economies (G7)</td>\n",
       "      <td>2028</td>\n",
       "      <td>55430.066</td>\n",
       "    </tr>\n",
       "    <tr>\n",
       "      <th>8432</th>\n",
       "      <td>Middle East and Central Asia</td>\n",
       "      <td>2028</td>\n",
       "      <td>5929.627</td>\n",
       "    </tr>\n",
       "    <tr>\n",
       "      <th>8433</th>\n",
       "      <td>Other advanced economies</td>\n",
       "      <td>2028</td>\n",
       "      <td>10783.151</td>\n",
       "    </tr>\n",
       "    <tr>\n",
       "      <th>8434</th>\n",
       "      <td>Sub-Saharan Africa</td>\n",
       "      <td>2028</td>\n",
       "      <td>3100.738</td>\n",
       "    </tr>\n",
       "    <tr>\n",
       "      <th>8435</th>\n",
       "      <td>World</td>\n",
       "      <td>2028</td>\n",
       "      <td>134950.483</td>\n",
       "    </tr>\n",
       "  </tbody>\n",
       "</table>\n",
       "<p>8436 rows × 3 columns</p>\n",
       "</div>"
      ],
      "text/plain": [
       "                            Country  year         GDP\n",
       "0                       Afghanistan  1992     no data\n",
       "1                           Albania  1992       0.843\n",
       "2                           Algeria  1992      49.217\n",
       "3                           Andorra  1992     no data\n",
       "4                            Angola  1992       9.395\n",
       "...                             ...   ...         ...\n",
       "8431  Major advanced economies (G7)  2028   55430.066\n",
       "8432   Middle East and Central Asia  2028    5929.627\n",
       "8433       Other advanced economies  2028   10783.151\n",
       "8434             Sub-Saharan Africa  2028    3100.738\n",
       "8435                          World  2028  134950.483\n",
       "\n",
       "[8436 rows x 3 columns]"
      ]
     },
     "execution_count": 2,
     "metadata": {},
     "output_type": "execute_result"
    }
   ],
   "source": [
    "gdp = pd.read_csv(\"GDP_IMF.csv\", sep=\";\")\n",
    "gdp"
   ]
  },
  {
   "cell_type": "markdown",
   "id": "e7d45b68",
   "metadata": {},
   "source": [
    "#### a)\n",
    "As you can see, there are many missing values in the data. <br>\n",
    "Before you can continue, you need to handle them. Proceed as follows:\n",
    "- Delete those countries with no data at all (if any)\n",
    "- Either delete the missing years for each country or use the years close by to approximate the missing value <br> *Example: Year 2004 is missing, but 2003 and 2005 are available; use the mean of GDP in 2003 and 2005 to replace missing year 2004.*"
   ]
  },
  {
   "cell_type": "code",
   "execution_count": 3,
   "id": "556e6ff2",
   "metadata": {},
   "outputs": [],
   "source": [
    "# Insert your code here."
   ]
  },
  {
   "cell_type": "markdown",
   "id": "062c2032",
   "metadata": {},
   "source": [
    "#### b)\n",
    "We are only interested in the data on a country level and for years already passed. <br>\n",
    "The dataset, however, also contains information on whole regions such as the EU or G7. <br>\n",
    "It also contains predictions for GDP in the upcoming years. <br>\n",
    "Delete these observations from the data. <br>\n",
    "*Hint: Get a list of all unique values of the Country column.*"
   ]
  },
  {
   "cell_type": "code",
   "execution_count": 4,
   "id": "cc2d4bd1",
   "metadata": {},
   "outputs": [],
   "source": [
    "# Insert your code here."
   ]
  },
  {
   "cell_type": "markdown",
   "id": "2f7ef655",
   "metadata": {},
   "source": [
    "# Problem 2 - Data Visualization\n",
    "#### a)\n",
    "To get some first insights in the data, create meaningful plots. <br>\n",
    "You can use any kind that you deem useful: histograms, line plots, etc."
   ]
  },
  {
   "cell_type": "code",
   "execution_count": 5,
   "id": "113ad680",
   "metadata": {},
   "outputs": [],
   "source": [
    "# Insert your code here."
   ]
  },
  {
   "cell_type": "markdown",
   "id": "1fca73bd",
   "metadata": {},
   "source": [
    "#### b)\n",
    "Pick a year with as little missing values as possible. <br>\n",
    "For this year, create an interactive map with `folium` that tells you the GDP in the country in the given year. <br>\n",
    "*Hint: Be cautious with country names.*"
   ]
  },
  {
   "cell_type": "code",
   "execution_count": 6,
   "id": "f3efb913",
   "metadata": {},
   "outputs": [],
   "source": [
    "# Insert your code here."
   ]
  },
  {
   "cell_type": "markdown",
   "id": "3a378e4e",
   "metadata": {},
   "source": [
    "# Problem 3 - Supervised Machine Learning\n",
    "#### a)\n",
    "First, try to predict the GDP in a given year and in a given country using the data from the past years. <br>\n",
    "Report the performance (measured in mean squared error) for different numbers of lags. "
   ]
  },
  {
   "cell_type": "code",
   "execution_count": 7,
   "id": "37db519e",
   "metadata": {},
   "outputs": [],
   "source": [
    "# Insert your code here."
   ]
  },
  {
   "cell_type": "markdown",
   "id": "528d6423",
   "metadata": {},
   "source": [
    "#### b)\n",
    "Now, see if you can improve the prediction with additional data. <br>\n",
    "In this task, you are supposed to be creative and use your intuition. What could be important predictors? Think of, for example:\n",
    "- Country characteristics such as population, unemployment rates etc. <br> *Hint: You can search for official statistics, e.g., from OECD.*\n",
    "- Major historical events such as wars, natural disasters etc. <br> *Hint: You can make dummy variables if such an event happened for given country and year.*\n",
    "- Geographical information such as continent.\n",
    "\n",
    "*Note: It is well possible that you can't find data on very small countries. If you don't find data for some countries, you can drop them.*"
   ]
  },
  {
   "cell_type": "code",
   "execution_count": 8,
   "id": "e4b80a41",
   "metadata": {},
   "outputs": [],
   "source": [
    "# Insert your code here."
   ]
  },
  {
   "cell_type": "markdown",
   "id": "6f116332",
   "metadata": {},
   "source": [
    "# Problem 4 - Unsupervised Machine Learning \n",
    "Use GDP and the information from Problem 3b) to cluster countries. <br>\n",
    "Which is the optimal number of clusters? <br>\n",
    "Can you provide an intuition for the clusters you identified?"
   ]
  },
  {
   "cell_type": "code",
   "execution_count": 9,
   "id": "91e6bea1",
   "metadata": {},
   "outputs": [],
   "source": [
    "# Insert your code here."
   ]
  }
 ],
 "metadata": {
  "kernelspec": {
   "display_name": "Python 3 (ipykernel)",
   "language": "python",
   "name": "python3"
  },
  "language_info": {
   "codemirror_mode": {
    "name": "ipython",
    "version": 3
   },
   "file_extension": ".py",
   "mimetype": "text/x-python",
   "name": "python",
   "nbconvert_exporter": "python",
   "pygments_lexer": "ipython3",
   "version": "3.9.6"
  }
 },
 "nbformat": 4,
 "nbformat_minor": 5
}
